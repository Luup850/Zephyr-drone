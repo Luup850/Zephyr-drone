{
 "cells": [
  {
   "cell_type": "code",
   "execution_count": 1,
   "metadata": {},
   "outputs": [
    {
     "name": "stdout",
     "output_type": "stream",
     "text": [
      "Amount of images:  40\n",
      "Amount of valid images:  27\n"
     ]
    }
   ],
   "source": [
    "import numpy as np\n",
    "import cv2 as cv\n",
    "import glob\n",
    "# termination criteria\n",
    "criteria = (cv.TERM_CRITERIA_EPS + cv.TERM_CRITERIA_MAX_ITER, 30, 0.001)\n",
    "# prepare object points, like (0,0,0), (1,0,0), (2,0,0) ....,(6,5,0)\n",
    "# Amount of corners in x and y direction (10, 7)\n",
    "objp = np.zeros((7*10,3), np.float32)\n",
    "objp[:,:2] = np.mgrid[0:10,0:7].T.reshape(-1,2)\n",
    "# Arrays to store object points and image points from all the images.\n",
    "objpoints = [] # 3d point in real world space\n",
    "imgpoints = [] # 2d points in image plane.\n",
    "images = glob.glob('calibration_320x240_v2/*.jpg')\n",
    "print(\"Amount of images: \", len(images))\n",
    "number_of_valid_images = 0\n",
    "for fname in images:\n",
    "    img = cv.imread(fname)\n",
    "    gray = cv.cvtColor(img, cv.COLOR_BGR2GRAY)\n",
    "    # Find the chess board corners\n",
    "    ret, corners = cv.findChessboardCorners(gray, (10,7), None)\n",
    "    # If found, add object points, image points (after refining them)\n",
    "    if ret == True:\n",
    "        number_of_valid_images += 1\n",
    "        objpoints.append(objp)\n",
    "        corners2 = cv.cornerSubPix(gray,corners, (5,5), (-1,-1), criteria)\n",
    "        imgpoints.append(corners2)\n",
    "        # Draw and display the corners\n",
    "        cv.drawChessboardCorners(img, (10,7), corners2, ret)\n",
    "        cv.imshow('img', img)\n",
    "        cv.waitKey(200)\n",
    "\n",
    "print(\"Amount of valid images: \", number_of_valid_images)\n",
    "cv.destroyAllWindows()"
   ]
  },
  {
   "cell_type": "code",
   "execution_count": 2,
   "metadata": {},
   "outputs": [],
   "source": [
    "ret, mtx, dist, rvecs, tvecs = cv.calibrateCamera(objpoints, imgpoints, gray.shape[::-1], None, None)"
   ]
  },
  {
   "cell_type": "code",
   "execution_count": 9,
   "metadata": {},
   "outputs": [],
   "source": [
    "# Undistort image\n",
    "img = cv.imread('calibration_320x240_v2/14.jpg')\n",
    "h,  w = img.shape[:2]\n",
    "#newcameramtx, roi = cv.getOptimalNewCameraMatrix(mtx, dist, (w,h), 1, (w,h))\n",
    "# Undistort\n",
    "dst = cv.undistort(img, mtx, dist, None, None)\n",
    "# Crop the image\n",
    "#x, y, w, h = roi\n",
    "#dst = dst[y:y+h, x:x+w]\n",
    "# Set old image next to it\n",
    "img = np.hstack((dst, img))\n",
    "cv.imshow('Undistorted vs Distorted', img)\n",
    "cv.waitKey(0)\n",
    "cv.destroyAllWindows()"
   ]
  },
  {
   "cell_type": "code",
   "execution_count": 3,
   "metadata": {},
   "outputs": [
    {
     "name": "stdout",
     "output_type": "stream",
     "text": [
      "Camera matrix:  [[258.76440325   0.         159.73475449]\n",
      " [  0.         345.87451716 148.08435765]\n",
      " [  0.           0.           1.        ]]\n",
      "Distortion coefficients:  [[-0.3832795   0.15241031 -0.0072451  -0.00629277 -0.11769157]]\n"
     ]
    }
   ],
   "source": [
    "print(\"Camera matrix: \", mtx)\n",
    "print(\"Distortion coefficients: \", dist)"
   ]
  }
 ],
 "metadata": {
  "kernelspec": {
   "display_name": "Python 3",
   "language": "python",
   "name": "python3"
  },
  "language_info": {
   "codemirror_mode": {
    "name": "ipython",
    "version": 3
   },
   "file_extension": ".py",
   "mimetype": "text/x-python",
   "name": "python",
   "nbconvert_exporter": "python",
   "pygments_lexer": "ipython3",
   "version": "3.9.7"
  },
  "orig_nbformat": 4
 },
 "nbformat": 4,
 "nbformat_minor": 2
}
