{
 "cells": [
  {
   "cell_type": "code",
   "execution_count": null,
   "metadata": {},
   "outputs": [],
   "source": [
    "#from convert import convert_log_to_csv\n",
    "#from convert import convert_aruco_log_to_csv"
   ]
  },
  {
   "cell_type": "code",
   "execution_count": 2,
   "metadata": {},
   "outputs": [],
   "source": [
    "import pandas as pd\n",
    "import numpy as np\n",
    "import matplotlib.pyplot as plt\n",
    "import glob"
   ]
  },
  {
   "cell_type": "code",
   "execution_count": 18,
   "metadata": {},
   "outputs": [
    {
     "name": "stdout",
     "output_type": "stream",
     "text": [
      "['Fri Jun  2 16_53', '.\\\\data_aruco\\\\Fri Jun  2 16_53_12 2023-aruco_log.csv', '.\\\\data\\\\Fri Jun  2 16_53_08 2023-log.csv', '.\\\\data\\\\Fri Jun  2 16_53_08 2023-header.csv']\n",
      "['Fri Jun  2 16_54', '.\\\\data_aruco\\\\Fri Jun  2 16_54_26 2023-aruco_log.csv', '.\\\\data\\\\Fri Jun  2 16_54_22 2023-log.csv', '.\\\\data\\\\Fri Jun  2 16_54_22 2023-header.csv']\n",
      "['Fri Jun  2 16_56', '.\\\\data_aruco\\\\Fri Jun  2 16_56_53 2023-aruco_log.csv', '.\\\\data\\\\Fri Jun  2 16_56_49 2023-log.csv', '.\\\\data\\\\Fri Jun  2 16_56_49 2023-header.csv']\n",
      "['Fri Jun  2 16_57', '.\\\\data_aruco\\\\Fri Jun  2 16_57_57 2023-aruco_log.csv', '.\\\\data\\\\Fri Jun  2 16_57_54 2023-log.csv', '.\\\\data\\\\Fri Jun  2 16_57_54 2023-header.csv']\n",
      "['Fri Jun  2 17_35', '.\\\\data_aruco\\\\Fri Jun  2 17_35_56 2023-aruco_log.csv', '.\\\\data\\\\Fri Jun  2 17_35_53 2023-log.csv', '.\\\\data\\\\Fri Jun  2 17_35_53 2023-header.csv']\n",
      "['Fri Jun  2 19_47', '.\\\\data_aruco\\\\Fri Jun  2 19_47_15 2023-aruco_log.csv', '.\\\\data\\\\Fri Jun  2 19_47_11 2023-log.csv', '.\\\\data\\\\Fri Jun  2 19_47_11 2023-header.csv']\n",
      "['Fri Jun  2 19_50', '.\\\\data_aruco\\\\Fri Jun  2 19_50_05 2023-aruco_log.csv', '.\\\\data\\\\Fri Jun  2 19_50_02 2023-log.csv', '.\\\\data\\\\Fri Jun  2 19_50_02 2023-header.csv']\n",
      "['Fri Jun  2 19_52', '.\\\\data_aruco\\\\Fri Jun  2 19_52_50 2023-aruco_log.csv', '.\\\\data\\\\Fri Jun  2 19_52_46 2023-log.csv', '.\\\\data\\\\Fri Jun  2 19_52_46 2023-header.csv']\n",
      "['Fri Jun  2 19_55', '.\\\\data_aruco\\\\Fri Jun  2 19_55_30 2023-aruco_log.csv', '.\\\\data\\\\Fri Jun  2 19_55_26 2023-log.csv', '.\\\\data\\\\Fri Jun  2 19_55_26 2023-header.csv']\n",
      "['Fri Jun  2 20_05', '.\\\\data_aruco\\\\Fri Jun  2 20_05_26 2023-aruco_log.csv', '.\\\\data\\\\Fri Jun  2 20_05_23 2023-log.csv', '.\\\\data\\\\Fri Jun  2 20_05_23 2023-header.csv']\n",
      "['Fri Jun  2 20_10', '.\\\\data_aruco\\\\Fri Jun  2 20_10_44 2023-aruco_log.csv', '.\\\\data\\\\Fri Jun  2 20_10_41 2023-log.csv', '.\\\\data\\\\Fri Jun  2 20_10_41 2023-header.csv']\n"
     ]
    }
   ],
   "source": [
    "# Get log files\n",
    "aruco_logs = glob.glob('.\\\\data_aruco\\\\*.csv')\n",
    "drone_logs = glob.glob('.\\\\data\\\\*-log.csv')\n",
    "drone_headers = glob.glob('.\\\\data\\\\*-header.csv')\n",
    "\n",
    "# Get filename only (Ugly fix because the seconds in date dont match. It's lazy but works)\n",
    "drone_log_names = [(x.split('\\\\')[-1])[:-16] for x in drone_logs]\n",
    "aruco_log_names = [(x.split('\\\\')[-1])[:-22] for x in aruco_logs]\n",
    "drone_header_names = [(x.split('\\\\')[-1])[:-19] for x in drone_headers]\n",
    "\n",
    "data_files = []\n",
    "\n",
    "# Get the intersection of the two lists\n",
    "for i in range(len(aruco_log_names)):\n",
    "    # Find the index of the aruco log name in the drone log names\n",
    "    if aruco_log_names[i] in drone_log_names:\n",
    "        # Check for duplicates and print if there is\n",
    "        if drone_log_names.count(aruco_log_names[i]) > 1:\n",
    "            print('Duplicate found')\n",
    "            print(aruco_log_names[i])\n",
    "            print(drone_log_names.count(aruco_log_names[i]))\n",
    "\n",
    "\n",
    "        idx = drone_log_names.index(aruco_log_names[i])\n",
    "        \n",
    "        \n",
    "        data_files.append([aruco_log_names[i], aruco_logs[i], drone_logs[idx], drone_headers[idx]])\n",
    "\n",
    "#for d in data_files:\n",
    "#    print(d)\n",
    "#print(drone_log_names)\n",
    "#print(aruco_log_names)\n",
    "#print(drone_header_names)"
   ]
  },
  {
   "cell_type": "code",
   "execution_count": 25,
   "metadata": {},
   "outputs": [],
   "source": [
    "# Plot everything against time\n",
    "# First\n",
    "for d in data_files:\n",
    "    df = pd.read_csv(d[2])\n",
    "\n",
    "    # Get the time column\n",
    "    time = df['Time'].values\n",
    "\n",
    "    # Get keys\n",
    "    keys = ['X','Y','Z','Pitch','Yaw','Roll','errorHeight','errorRoll','errorPitch','errorYaw','HLeadOut','HeightError']\n",
    "\n",
    "    # Plot everything against time\n",
    "    for k in keys:\n",
    "        plt.plot(time, df[k].values, label=k)\n",
    "        plt.legend()\n",
    "        plt.xlabel('Time [s]')\n",
    "        plt.ylabel('Value')\n",
    "        plt.title(d[0])\n",
    "        plt.savefig('.\\\\report_plots\\\\plot_against_time\\\\' + d[0] + '-' + k + '.png')\n",
    "        plt.close()\n"
   ]
  }
 ],
 "metadata": {
  "kernelspec": {
   "display_name": "Python 3",
   "language": "python",
   "name": "python3"
  },
  "language_info": {
   "codemirror_mode": {
    "name": "ipython",
    "version": 3
   },
   "file_extension": ".py",
   "mimetype": "text/x-python",
   "name": "python",
   "nbconvert_exporter": "python",
   "pygments_lexer": "ipython3",
   "version": "3.9.7"
  },
  "orig_nbformat": 4
 },
 "nbformat": 4,
 "nbformat_minor": 2
}
