{
 "cells": [
  {
   "cell_type": "code",
   "execution_count": null,
   "metadata": {},
   "outputs": [],
   "source": [
    "import cv2\n",
    "import numpy as np\n",
    "import cv2.aruco as aruco\n",
    "import os\n",
    "from time import sleep\n",
    "\n",
    "\n",
    "# Generate aruco markers\n",
    "def generate_aruco_markers():\n",
    "    # Dictionary of 250 markers\n",
    "    aruco_dict = aruco.Dictionary_get(aruco.DICT_6X6_250)\n",
    "\n",
    "    # Create an image from the dictionary\n",
    "    for i in range(250):\n",
    "        img = aruco.drawMarker(aruco_dict, i, 700)\n",
    "\n",
    "        # Get current dir path\n",
    "        path = os.getcwd()\n",
    "\n",
    "        cv2.imwrite(path + \"/markers/\" + str(i) + \".jpg\", img)\n",
    "\n",
    "\n",
    "# Detect aruco markers\n",
    "def detect_aruco_markers(aruco_dict, frame):\n",
    "    # Convert frame to grayscale\n",
    "    gray = cv2.cvtColor(frame, cv2.COLOR_BGR2GRAY)\n",
    "\n",
    "    # Detect aruco markers\n",
    "    parameters = aruco.DetectorParameters_create()\n",
    "    corners, ids, rejectedImgPoints = aruco.detectMarkers(gray, aruco_dict, parameters=parameters)\n",
    "\n",
    "    # Draw detected markers\n",
    "    frame = aruco.drawDetectedMarkers(frame, corners, ids)\n",
    "\n",
    "    return frame, corners, ids\n"
   ]
  },
  {
   "cell_type": "code",
   "execution_count": null,
   "metadata": {},
   "outputs": [],
   "source": [
    "# Chessboard calibration\n",
    "def calibrate_camera():\n",
    "    "
   ]
  },
  {
   "cell_type": "code",
   "execution_count": null,
   "metadata": {},
   "outputs": [],
   "source": [
    "cam = cv2.VideoCapture(1)\n",
    "\n",
    "# Show camera feed\n",
    "while True:\n",
    "    ret, frame = cam.read()\n",
    "    img,corners,ids = detect_aruco_markers(aruco.Dictionary_get(aruco.DICT_6X6_250), frame)\n",
    "    cv2.imshow(\"Camera\", img)\n",
    "    if cv2.waitKey(1) & 0xFF == ord('q'):\n",
    "        break"
   ]
  }
 ],
 "metadata": {
  "language_info": {
   "name": "python"
  },
  "orig_nbformat": 4
 },
 "nbformat": 4,
 "nbformat_minor": 2
}
