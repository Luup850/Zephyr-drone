{
 "cells": [
  {
   "cell_type": "code",
   "execution_count": 1,
   "metadata": {},
   "outputs": [
    {
     "ename": "IndexError",
     "evalue": "list index out of range",
     "output_type": "error",
     "traceback": [
      "\u001b[1;31m---------------------------------------------------------------------------\u001b[0m",
      "\u001b[1;31mIndexError\u001b[0m                                Traceback (most recent call last)",
      "\u001b[1;32m~\\AppData\\Local\\Temp/ipykernel_14376/214394765.py\u001b[0m in \u001b[0;36m<module>\u001b[1;34m\u001b[0m\n\u001b[0;32m      1\u001b[0m \u001b[1;32mfrom\u001b[0m \u001b[0mconvert\u001b[0m \u001b[1;32mimport\u001b[0m \u001b[0mconvert_log_to_csv\u001b[0m\u001b[1;33m\u001b[0m\u001b[1;33m\u001b[0m\u001b[0m\n\u001b[1;32m----> 2\u001b[1;33m \u001b[0mconvert_log_to_csv\u001b[0m\u001b[1;33m(\u001b[0m\u001b[1;33m)\u001b[0m\u001b[1;33m\u001b[0m\u001b[1;33m\u001b[0m\u001b[0m\n\u001b[0m",
      "\u001b[1;32mc:\\Users\\Marcus\\Documents\\GitHub\\Zephyr-drone\\Python\\convert.py\u001b[0m in \u001b[0;36mconvert_log_to_csv\u001b[1;34m()\u001b[0m\n\u001b[0;32m     30\u001b[0m \u001b[1;33m\u001b[0m\u001b[0m\n\u001b[0;32m     31\u001b[0m         \u001b[0mheader\u001b[0m \u001b[1;33m=\u001b[0m \u001b[0mlog\u001b[0m\u001b[1;33m[\u001b[0m\u001b[1;36m2\u001b[0m\u001b[1;33m:\u001b[0m\u001b[1;36m4\u001b[0m\u001b[1;33m]\u001b[0m\u001b[1;33m\u001b[0m\u001b[1;33m\u001b[0m\u001b[0m\n\u001b[1;32m---> 32\u001b[1;33m         \u001b[1;32mif\u001b[0m\u001b[1;33m(\u001b[0m\u001b[0mheader\u001b[0m\u001b[1;33m[\u001b[0m\u001b[1;36m0\u001b[0m\u001b[1;33m]\u001b[0m\u001b[1;33m.\u001b[0m\u001b[0msplit\u001b[0m\u001b[1;33m(\u001b[0m\u001b[1;34m','\u001b[0m\u001b[1;33m)\u001b[0m\u001b[1;33m[\u001b[0m\u001b[1;36m0\u001b[0m\u001b[1;33m]\u001b[0m \u001b[1;33m!=\u001b[0m \u001b[1;34m'HOVER_VALUE'\u001b[0m\u001b[1;33m)\u001b[0m\u001b[1;33m:\u001b[0m\u001b[1;33m\u001b[0m\u001b[1;33m\u001b[0m\u001b[0m\n\u001b[0m\u001b[0;32m     33\u001b[0m             \u001b[0mprint\u001b[0m\u001b[1;33m(\u001b[0m\u001b[1;34m'Log file '\u001b[0m \u001b[1;33m+\u001b[0m \u001b[0mstr\u001b[0m\u001b[1;33m(\u001b[0m\u001b[0mlog_file_names\u001b[0m\u001b[1;33m[\u001b[0m\u001b[0mi\u001b[0m\u001b[1;33m]\u001b[0m\u001b[1;33m)\u001b[0m \u001b[1;33m+\u001b[0m \u001b[1;34m' uses old format'\u001b[0m\u001b[1;33m)\u001b[0m\u001b[1;33m\u001b[0m\u001b[1;33m\u001b[0m\u001b[0m\n\u001b[0;32m     34\u001b[0m             \u001b[0moldFormat\u001b[0m \u001b[1;33m=\u001b[0m \u001b[1;32mTrue\u001b[0m\u001b[1;33m\u001b[0m\u001b[1;33m\u001b[0m\u001b[0m\n",
      "\u001b[1;31mIndexError\u001b[0m: list index out of range"
     ]
    }
   ],
   "source": [
    "from convert import convert_log_to_csv\n",
    "convert_log_to_csv()"
   ]
  },
  {
   "cell_type": "code",
   "execution_count": null,
   "metadata": {},
   "outputs": [
    {
     "data": {
      "text/plain": [
       "<Figure size 432x288 with 0 Axes>"
      ]
     },
     "metadata": {},
     "output_type": "display_data"
    }
   ],
   "source": [
    "import matplotlib.pyplot as plt\n",
    "import numpy as np\n",
    "import pandas as pd\n",
    "from convert import convert_log_to_csv\n",
    "import glob\n",
    "\n",
    "\n",
    "logs = glob.glob('.\\\\data\\\\*-log.csv')\n",
    "headers = glob.glob('.\\\\data\\\\*-header.csv')\n",
    "\n",
    "# Sort the logs and headers so that they match up\n",
    "logs.sort()\n",
    "headers.sort()\n",
    "\n",
    "\n",
    "\n",
    "#print(files)\n",
    "# Get filename only\n",
    "log_file_names = [(x.split('\\\\')[-1])[:-4] for x in logs]\n",
    "\n",
    "#columns = ['Time', 'X', 'Y', 'Z', 'Pitch', 'Yaw', 'Roll', 'errorHeight', 'errorRoll', 'errorPitch', 'errorYaw']\n",
    "# Plot each log file\n",
    "for i,lg in enumerate(logs):\n",
    "    # Plot error height against time\n",
    "    df = pd.read_csv(lg)\n",
    "\n",
    "    df_header = pd.read_csv(headers[i])\n",
    "    #print(df)\n",
    "    #print(log_file_names[i])\n",
    "    #print(df['Time'])\n",
    "    df = df.astype(float)\n",
    "    df_header = df_header.astype(float)\n",
    "    #print(log_file_names[i])\n",
    "    #print(df['Time'])\n",
    "    #exit()\n",
    "\n",
    "    ref = (float)(df_header['ctrl_h->ref'])\n",
    "    plt.plot(df['Time'], df['Z'] - ref)\n",
    "    plt.xlabel('Time (s)')\n",
    "    plt.ylabel('Error Height (m)')\n",
    "    \n",
    "    #ctrl_h->ref, ctrl_h->kp, ctrl_h->tau_i, ctrl_h->tau_d, ctrl_h->alpha\n",
    "    config = 'kp:' + df_header['ctrl_h->kp'].apply(str) + ' tau_i:' + df_header['ctrl_h->tau_i'].apply(str) + ' tau_d:' + df_header['ctrl_h->tau_d'].apply(str) + ' alpha:' + df_header['ctrl_h->alpha'].apply(str)\n",
    "    #print(config.astype(str).to_string())\n",
    "    plt.title(config.astype(str).to_string())\n",
    "    #plt.show()\n",
    "    # set background color for whole image to white\n",
    "    fig = plt.gcf()\n",
    "    fig.patch.set_facecolor('white')\n",
    "    # save the plot\n",
    "\n",
    "    fig.savefig('.\\\\plots\\\\'+ log_file_names[i] + '-Height.png')\n",
    "\n",
    "    #plt.savefig('.\\\\plots\\\\'+ log_file_names[i] + '-Height.png')\n",
    "\n",
    "    # clear the plot\n",
    "    plt.clf()\n",
    "\n",
    "\n",
    "#df = pd.read_csv('./Wed-May-3-14_29_37-2023.csv', names=columns)\n",
    "\n",
    "# Plot errorHeight against time\n",
    "#plt.plot(df['Time'], df['errorHeight'])\n",
    "#plt.xlabel('Time (s)')\n",
    "#plt.ylabel('Error Height (m)')\n",
    "#plt.title('Error Height vs Time')\n",
    "#plt.show()"
   ]
  }
 ],
 "metadata": {
  "kernelspec": {
   "display_name": "Python 3",
   "language": "python",
   "name": "python3"
  },
  "language_info": {
   "codemirror_mode": {
    "name": "ipython",
    "version": 3
   },
   "file_extension": ".py",
   "mimetype": "text/x-python",
   "name": "python",
   "nbconvert_exporter": "python",
   "pygments_lexer": "ipython3",
   "version": "3.9.7"
  },
  "orig_nbformat": 4
 },
 "nbformat": 4,
 "nbformat_minor": 2
}
