{
 "cells": [
  {
   "cell_type": "code",
   "execution_count": 7,
   "metadata": {},
   "outputs": [
    {
     "name": "stdout",
     "output_type": "stream",
     "text": [
      "Log file Tue May  2 16_56_14 2023 uses old format\n",
      "Log file Wed Apr 26 15_36_59 2023 uses old format\n",
      "Log file Wed Apr 26 15_37_44 2023 uses old format\n",
      "Log file Wed Apr 26 15_39_14 2023 uses old format\n",
      "Log file Wed Apr 26 15_40_03 2023 uses old format\n",
      "Log file Wed Apr 26 15_41_16 2023 uses old format\n",
      "Log file Wed Apr 26 15_42_29 2023 uses old format\n",
      "Log file Wed May  3 14_05_15 2023 uses old format\n"
     ]
    }
   ],
   "source": [
    "from convert import convert_log_to_csv\n",
    "convert_log_to_csv()"
   ]
  },
  {
   "cell_type": "code",
   "execution_count": 10,
   "metadata": {},
   "outputs": [],
   "source": [
    "import matplotlib.pyplot as plt\n",
    "import numpy as np\n",
    "import pandas as pd\n",
    "from convert import convert_log_to_csv\n",
    "import glob\n",
    "import os\n",
    "\n",
    "\n",
    "logs = glob.glob('.\\\\data\\\\*-log.csv')\n",
    "headers = glob.glob('.\\\\data\\\\*-header.csv')\n",
    "\n",
    "# Sort the logs and headers so that they match up\n",
    "logs.sort()\n",
    "headers.sort()\n",
    "\n",
    "\n",
    "\n",
    "#print(files)\n",
    "# Get filename only\n",
    "log_file_names = [(x.split('\\\\')[-1])[:-4] for x in logs]\n",
    "#subplots = ['Time', 'X', 'Y', 'Z', 'Pitch', 'Yaw', 'Roll', 'errorHeight', 'errorRoll', 'errorPitch', 'errorYaw']\n"
   ]
  },
  {
   "cell_type": "code",
   "execution_count": 12,
   "metadata": {},
   "outputs": [
    {
     "data": {
      "text/plain": [
       "<Figure size 1332x756 with 0 Axes>"
      ]
     },
     "metadata": {},
     "output_type": "display_data"
    }
   ],
   "source": [
    "# Plot each log file\n",
    "for i,lg in enumerate(logs):\n",
    "    # Plot error height against time\n",
    "    df = pd.read_csv(lg)\n",
    "\n",
    "    df_header = pd.read_csv(headers[i])\n",
    "    #print(df)\n",
    "    #print(log_file_names[i])\n",
    "    #print(df['Time'])\n",
    "    #print(log_file_names[i])\n",
    "    df = df.astype(float)\n",
    "    df_header = df_header.astype(float)\n",
    "    #print(log_file_names[i])\n",
    "    #print(df['Time'])\n",
    "    #exit()\n",
    "\n",
    "    # Make a new folder in plots for each log file if folder does not exist\n",
    "    if not os.path.exists('.\\\\plots\\\\'+ log_file_names[i]):\n",
    "        os.mkdir('.\\\\plots\\\\'+ log_file_names[i])\n",
    "\n",
    "    subplots = df.keys()\n",
    "\n",
    "    for sp in subplots:\n",
    "        ref = (float)(df_header['ctrl_h->ref'])\n",
    "        plt.plot(df['Time'], df[sp], label=sp)\n",
    "        plt.xlabel('Time (s)')\n",
    "        plt.ylabel(f'{sp}')\n",
    "\n",
    "        # Make background white\n",
    "        \n",
    "        #ctrl_h->ref, ctrl_h->kp, ctrl_h->tau_i, ctrl_h->tau_d, ctrl_h->alpha\n",
    "        config = 'kp:' + df_header['ctrl_h->kp'].apply(str) + ' tau_i:' + df_header['ctrl_h->tau_i'].apply(str) + ' tau_d:' + df_header['ctrl_h->tau_d'].apply(str) + ' alpha:' + df_header['ctrl_h->alpha'].apply(str)\n",
    "        #print(config.astype(str).to_string())\n",
    "        plt.title(config.astype(str).to_string())\n",
    "        plt.grid(True)\n",
    "\n",
    "        # High resolution\n",
    "        plt.gcf().set_size_inches(18.5, 10.5)\n",
    "\n",
    "\n",
    "        plt.savefig('.\\\\plots\\\\'+ log_file_names[i] + '\\\\' +sp+'.png', format='png', transparent=False, facecolor='white')\n",
    "\n",
    "        # clear the plot\n",
    "        plt.clf()\n",
    "\n",
    "\n",
    "#df = pd.read_csv('./Wed-May-3-14_29_37-2023.csv', names=columns)\n",
    "\n",
    "# Plot errorHeight against time\n",
    "#plt.plot(df['Time'], df['errorHeight'])\n",
    "#plt.xlabel('Time (s)')\n",
    "#plt.ylabel('Error Height (m)')\n",
    "#plt.title('Error Height vs Time')\n",
    "#plt.show()"
   ]
  }
 ],
 "metadata": {
  "kernelspec": {
   "display_name": "Python 3",
   "language": "python",
   "name": "python3"
  },
  "language_info": {
   "codemirror_mode": {
    "name": "ipython",
    "version": 3
   },
   "file_extension": ".py",
   "mimetype": "text/x-python",
   "name": "python",
   "nbconvert_exporter": "python",
   "pygments_lexer": "ipython3",
   "version": "3.9.7"
  },
  "orig_nbformat": 4
 },
 "nbformat": 4,
 "nbformat_minor": 2
}
