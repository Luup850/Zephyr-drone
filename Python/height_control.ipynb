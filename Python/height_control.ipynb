{
 "cells": [
  {
   "cell_type": "code",
   "execution_count": 10,
   "metadata": {},
   "outputs": [
    {
     "name": "stdout",
     "output_type": "stream",
     "text": [
      "1.7897999999999998\n",
      "29.5829, 2.2349, 2.1118, 0.07\n",
      "1.8109904571004118\n",
      "29.5829, 2.2087, 2.0871, 0.07\n",
      "1.8324318000384172\n",
      "29.5829, 2.1829, 2.0626, 0.07\n",
      "1.854126999193711\n",
      "29.5829, 2.1573, 2.0385, 0.07\n",
      "1.8760790601139985\n",
      "29.5829, 2.1321, 2.0147, 0.07\n",
      "1.8982910239313675\n",
      "29.5829, 2.1072, 1.9911, 0.07\n",
      "1.920765967783594\n",
      "29.5829, 2.0825, 1.9678, 0.07\n",
      "1.9435070052404326\n",
      "29.5829, 2.0581, 1.9448, 0.07\n",
      "1.966517286734956\n",
      "29.5829, 2.0341, 1.922, 0.07\n",
      "1.9898\n",
      "29.5829, 2.0103, 1.8995, 0.07\n"
     ]
    }
   ],
   "source": [
    "import numpy as np\n",
    "# Test these first\n",
    "# H1kp = 29.5829, h1ti = 2.116, h1td = 2.0, h1al = 0.07.\n",
    "\n",
    "# H1kp = 5.9166, h1ti = 2.116, h1td = 2.0, h1al = 0.07. Without Kff of 5. NOTE: Tested didnt work.\n",
    "\n",
    "# Kff shouldn't make a difference. Control signal is still 0-100%.\n",
    "\n",
    "# h1kp = 2.8890, h1ti = 2.116, h1td = 2.0, h1al = 0.07. Should be without the conversion to 1024.\n",
    "# Try with and without kff.\n",
    "\n",
    "h1Ni = 4.0\n",
    "h1al = 0.07\n",
    "# Get frequency h1Ni/h1ti\n",
    "current_frequency = 1.8898\n",
    "bandwidth = 0.1\n",
    "\n",
    "configs = []\n",
    "\n",
    "# Logspace frequency from current frequency +- bandwidth\n",
    "logspace_frequency = np.logspace(np.log10(current_frequency-bandwidth), np.log10(current_frequency+bandwidth), 10)\n",
    "\n",
    "for l in logspace_frequency:\n",
    "\n",
    "    ti = h1Ni * (1 / l)\n",
    "    # Round to 3 decimals\n",
    "    ti = round(ti, 4)\n",
    "\n",
    "    td = 1 / (np.sqrt(h1al) * l)\n",
    "    # Round to 3 decimals\n",
    "    td = round(td, 4)\n",
    "\n",
    "    configs.append([l,f'{29.5829}, {ti}, {td}, {h1al}'])\n",
    "\n",
    "for c in configs:\n",
    "    print(c[0])\n",
    "    print(c[1])"
   ]
  }
 ],
 "metadata": {
  "kernelspec": {
   "display_name": "Python 3",
   "language": "python",
   "name": "python3"
  },
  "language_info": {
   "codemirror_mode": {
    "name": "ipython",
    "version": 3
   },
   "file_extension": ".py",
   "mimetype": "text/x-python",
   "name": "python",
   "nbconvert_exporter": "python",
   "pygments_lexer": "ipython3",
   "version": "3.9.7"
  },
  "orig_nbformat": 4
 },
 "nbformat": 4,
 "nbformat_minor": 2
}
